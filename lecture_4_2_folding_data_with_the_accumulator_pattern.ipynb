{
 "cells": [
  {
   "cell_type": "markdown",
   "metadata": {
    "slideshow": {
     "slide_type": "slide"
    }
   },
   "source": [
    "## The Accumulator Pattern"
   ]
  },
  {
   "cell_type": "markdown",
   "metadata": {
    "slideshow": {
     "slide_type": "slide"
    }
   },
   "source": [
    "## The accumulator pattern\n",
    "\n",
    "* For turning a sequence into a value\n",
    "    * e.g. Computing statistics\n",
    "* Uses\n",
    "    * A `for` loop\n",
    "    * An accumulation variable\n",
    "    * Update step"
   ]
  },
  {
   "cell_type": "markdown",
   "metadata": {
    "slideshow": {
     "slide_type": "slide"
    }
   },
   "source": [
    "## Example 1 - The mean of a random variable"
   ]
  },
  {
   "cell_type": "code",
   "execution_count": 2,
   "metadata": {
    "slideshow": {
     "slide_type": "fragment"
    }
   },
   "outputs": [],
   "source": [
    "from random import gammavariate\n",
    "#help(gammavariate)"
   ]
  },
  {
   "cell_type": "code",
   "execution_count": 3,
   "metadata": {
    "slideshow": {
     "slide_type": "fragment"
    }
   },
   "outputs": [
    {
     "data": {
      "text/plain": [
       "[8.386407346098014,\n",
       " 2.977656509295077,\n",
       " 6.596643267126729,\n",
       " 8.98412784301126,\n",
       " 0.8055893386590953]"
      ]
     },
     "execution_count": 3,
     "metadata": {},
     "output_type": "execute_result"
    }
   ],
   "source": [
    "N = 1000000\n",
    "trials = [gammavariate(2,3) for i in range(N)]\n",
    "trials[:5]"
   ]
  },
  {
   "cell_type": "markdown",
   "metadata": {
    "slideshow": {
     "slide_type": "slide"
    }
   },
   "source": [
    "## Accumulating the mean\n",
    "\n",
    "Keep track of\n",
    "\n",
    "* current sum\n",
    "* current count"
   ]
  },
  {
   "cell_type": "code",
   "execution_count": 5,
   "metadata": {
    "slideshow": {
     "slide_type": "slide"
    }
   },
   "outputs": [
    {
     "data": {
      "text/plain": [
       "5.994037381867636"
      ]
     },
     "execution_count": 5,
     "metadata": {},
     "output_type": "execute_result"
    }
   ],
   "source": [
    "cnt = 0 # Count for an empty list\n",
    "tot = 0 # Total for an empty list\n",
    "for trial in trials:\n",
    "    cnt = cnt + 1 # Update the count\n",
    "    tot = tot + trial # Update the total\n",
    "mean = tot/cnt\n",
    "mean"
   ]
  },
  {
   "cell_type": "markdown",
   "metadata": {},
   "source": [
    "## Example 2 -- Checking membership.\n",
    "\n",
    "Suppose we have a sequence `L` and a value `val`.  We want to write a program to determine if `val` is contained in `L` at least once.  We can do this with the accumulator pattern."
   ]
  },
  {
   "cell_type": "code",
   "execution_count": 16,
   "metadata": {},
   "outputs": [
    {
     "data": {
      "text/plain": [
       "('d', 'abcdefghijklmnopqrstuvwxyz')"
      ]
     },
     "execution_count": 16,
     "metadata": {},
     "output_type": "execute_result"
    }
   ],
   "source": [
    "from string import ascii_lowercase\n",
    "val = \"d\"\n",
    "val, ascii_lowercase"
   ]
  },
  {
   "cell_type": "code",
   "execution_count": 17,
   "metadata": {},
   "outputs": [
    {
     "name": "stdout",
     "output_type": "stream",
     "text": [
      "d a False\n",
      "d b False\n",
      "d c False\n",
      "d d True\n",
      "d e True\n",
      "d f True\n",
      "d g True\n",
      "d h True\n",
      "d i True\n",
      "d j True\n",
      "d k True\n",
      "d l True\n",
      "d m True\n",
      "d n True\n",
      "d o True\n",
      "d p True\n",
      "d q True\n",
      "d r True\n",
      "d s True\n",
      "d t True\n",
      "d u True\n",
      "d v True\n",
      "d w True\n",
      "d x True\n",
      "d y True\n",
      "d z True\n"
     ]
    },
    {
     "data": {
      "text/plain": [
       "True"
      ]
     },
     "execution_count": 17,
     "metadata": {},
     "output_type": "execute_result"
    }
   ],
   "source": [
    "is_member = False # Membership for an empty list\n",
    "for ch in ascii_lowercase:\n",
    "    is_member = val == ch or is_member# This ch matches OR we already matched\n",
    "    print(val, ch, is_member)\n",
    "is_member"
   ]
  },
  {
   "cell_type": "code",
   "execution_count": 18,
   "metadata": {},
   "outputs": [
    {
     "data": {
      "text/plain": [
       "('µ', 'abcdefghijklmnopqrstuvwxyz')"
      ]
     },
     "execution_count": 18,
     "metadata": {},
     "output_type": "execute_result"
    }
   ],
   "source": [
    "from string import ascii_lowercase\n",
    "val = \"µ\"\n",
    "val, ascii_lowercase"
   ]
  },
  {
   "cell_type": "code",
   "execution_count": 19,
   "metadata": {},
   "outputs": [
    {
     "name": "stdout",
     "output_type": "stream",
     "text": [
      "µ a False\n",
      "µ b False\n",
      "µ c False\n",
      "µ d False\n",
      "µ e False\n",
      "µ f False\n",
      "µ g False\n",
      "µ h False\n",
      "µ i False\n",
      "µ j False\n",
      "µ k False\n",
      "µ l False\n",
      "µ m False\n",
      "µ n False\n",
      "µ o False\n",
      "µ p False\n",
      "µ q False\n",
      "µ r False\n",
      "µ s False\n",
      "µ t False\n",
      "µ u False\n",
      "µ v False\n",
      "µ w False\n",
      "µ x False\n",
      "µ y False\n",
      "µ z False\n"
     ]
    },
    {
     "data": {
      "text/plain": [
       "False"
      ]
     },
     "execution_count": 19,
     "metadata": {},
     "output_type": "execute_result"
    }
   ],
   "source": [
    "is_member = False # Membership for an empty list\n",
    "for ch in ascii_lowercase:\n",
    "    is_member = val == ch or is_member \n",
    "    print(val, ch, is_member)\n",
    "is_member"
   ]
  },
  {
   "cell_type": "markdown",
   "metadata": {
    "slideshow": {
     "slide_type": "slide"
    }
   },
   "source": [
    "## The accumulator pattern\n",
    "\n",
    "<img src=\"./img/accum.png\"/>"
   ]
  },
  {
   "cell_type": "markdown",
   "metadata": {
    "slideshow": {
     "slide_type": "slide"
    }
   },
   "source": [
    "<font color=\"red\"><h2> Exercise 4.2.1 </h2></font>\n",
    "\n",
    "The variance of a random variable is the average squared distance to the mean.  We can estimate the variance of a random variable using a simulation with large number of trials.\n",
    "\n",
    "Do this by ..."
   ]
  },
  {
   "cell_type": "markdown",
   "metadata": {
    "slideshow": {
     "slide_type": "slide"
    }
   },
   "source": [
    "#### Use a list comp. to compute a list of squared distances to the mean."
   ]
  },
  {
   "cell_type": "code",
   "execution_count": 1,
   "metadata": {
    "slideshow": {
     "slide_type": "fragment"
    }
   },
   "outputs": [
    {
     "output_type": "execute_result",
     "data": {
      "text/plain": "[1, 2, 3, 4, 5, 6, 7, 8, 9]"
     },
     "metadata": {},
     "execution_count": 1
    }
   ],
   "source": [
    "example = list(range(1,10))\n",
    "example"
   ]
  },
  {
   "cell_type": "code",
   "execution_count": null,
   "metadata": {},
   "outputs": [],
   "source": []
  },
  {
   "cell_type": "markdown",
   "metadata": {
    "slideshow": {
     "slide_type": "slide"
    }
   },
   "source": [
    "#### Use the accumulator pattern to get the count and total squared distance"
   ]
  },
  {
   "cell_type": "code",
   "execution_count": 3,
   "metadata": {
    "slideshow": {
     "slide_type": "fragment"
    }
   },
   "outputs": [],
   "source": [
    "ss = 0\n",
    "cnt = 0\n",
    "for val in example:\n",
    "    ss = ss + val**2\n",
    "    cnt = cnt + 1\n",
    "var = ss/cnt"
   ]
  },
  {
   "cell_type": "markdown",
   "metadata": {
    "slideshow": {
     "slide_type": "slide"
    }
   },
   "source": [
    "#### Compute the variance\n",
    "\n",
    "$$variance = \\frac{\\text{Total Sqr Dist}}{\\text{Num Trials}}$$"
   ]
  },
  {
   "cell_type": "code",
   "execution_count": 5,
   "metadata": {
    "slideshow": {
     "slide_type": "fragment"
    }
   },
   "outputs": [
    {
     "output_type": "execute_result",
     "data": {
      "text/plain": "31.666666666666668"
     },
     "metadata": {},
     "execution_count": 5
    }
   ],
   "source": [
    "var"
   ]
  },
  {
   "cell_type": "code",
   "execution_count": null,
   "metadata": {},
   "outputs": [],
   "source": []
  }
 ],
 "metadata": {
  "celltoolbar": "Slideshow",
  "kernelspec": {
   "display_name": "Python 3",
   "language": "python",
   "name": "python3"
  },
  "language_info": {
   "codemirror_mode": {
    "name": "ipython",
    "version": 3
   },
   "file_extension": ".py",
   "mimetype": "text/x-python",
   "name": "python",
   "nbconvert_exporter": "python",
   "pygments_lexer": "ipython3",
   "version": "3.7.2-final"
  },
  "varInspector": {
   "cols": {
    "lenName": 16,
    "lenType": 16,
    "lenVar": 40
   },
   "kernels_config": {
    "python": {
     "delete_cmd_postfix": "",
     "delete_cmd_prefix": "del ",
     "library": "var_list.py",
     "varRefreshCmd": "print(var_dic_list())"
    },
    "r": {
     "delete_cmd_postfix": ") ",
     "delete_cmd_prefix": "rm(",
     "library": "var_list.r",
     "varRefreshCmd": "cat(var_dic_list()) "
    }
   },
   "types_to_exclude": [
    "module",
    "function",
    "builtin_function_or_method",
    "instance",
    "_Feature"
   ],
   "window_display": false
  }
 },
 "nbformat": 4,
 "nbformat_minor": 2
}