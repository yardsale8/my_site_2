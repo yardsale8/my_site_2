{
 "cells": [
  {
   "cell_type": "markdown",
   "metadata": {},
   "source": [
    "# 4.5 - Abstracting List Comprehension Patterns\n",
    "\n",
    "## Common strategies for computing with comprehensions\n",
    "\n",
    "In this lecture, we will identify common patterns used when processing data with list comprehensions, namely\n",
    "\n",
    "1. map\n",
    "2. filter\n",
    "3. enumerate\n",
    "4. zip"
   ]
  },
  {
   "cell_type": "markdown",
   "metadata": {},
   "source": [
    "<img src=\"./img/map.png\" width=\"800\"/>"
   ]
  },
  {
   "cell_type": "markdown",
   "metadata": {},
   "source": [
    "# Maps in Python -- `map`\n",
    "\n",
    "`map` is the built-in implementation that is lazy and returns a generator."
   ]
  },
  {
   "cell_type": "code",
   "execution_count": 1,
   "metadata": {},
   "outputs": [
    {
     "data": {
      "text/plain": [
       "<map at 0x10f14f080>"
      ]
     },
     "execution_count": 1,
     "metadata": {},
     "output_type": "execute_result"
    }
   ],
   "source": [
    "sqr = lambda n: n**2\n",
    "map(sqr, range(1,11))"
   ]
  },
  {
   "cell_type": "code",
   "execution_count": 2,
   "metadata": {},
   "outputs": [
    {
     "data": {
      "text/plain": [
       "[1, 4, 9, 16, 25, 36, 49, 64, 81, 100]"
      ]
     },
     "execution_count": 2,
     "metadata": {},
     "output_type": "execute_result"
    }
   ],
   "source": [
    "list(map(sqr,range(1,11)))"
   ]
  },
  {
   "cell_type": "markdown",
   "metadata": {},
   "source": [
    "# Maps in Python -- `composable.strict.map`\n",
    "\n",
    "`composable.strict.map` is a pipeable strict (not lazy) implementation that returns a list."
   ]
  },
  {
   "cell_type": "code",
   "execution_count": 3,
   "metadata": {},
   "outputs": [
    {
     "name": "stdout",
     "output_type": "stream",
     "text": [
      "Requirement already satisfied: composable in /Users/bn8210wy/.pyenv/versions/anaconda3-5.3.1/lib/python3.7/site-packages (0.1.3)\n",
      "Requirement already satisfied: python-forge<19.0,>=18.6 in /Users/bn8210wy/.pyenv/versions/anaconda3-5.3.1/lib/python3.7/site-packages (from composable) (18.6.0)\n",
      "Requirement already satisfied: toolz<0.11.0,>=0.10.0 in /Users/bn8210wy/.pyenv/versions/anaconda3-5.3.1/lib/python3.7/site-packages (from composable) (0.10.0)\n",
      "\u001b[33mWARNING: You are using pip version 19.3.1; however, version 20.2.3 is available.\n",
      "You should consider upgrading via the 'pip install --upgrade pip' command.\u001b[0m\n"
     ]
    }
   ],
   "source": [
    "!pip install composable # run on colab or to install the first time"
   ]
  },
  {
   "cell_type": "code",
   "execution_count": 4,
   "metadata": {},
   "outputs": [
    {
     "name": "stdout",
     "output_type": "stream",
     "text": [
      "Requirement already up-to-date: composable in /Users/bn8210wy/.pyenv/versions/anaconda3-5.3.1/lib/python3.7/site-packages (0.1.3)\n",
      "Requirement already satisfied, skipping upgrade: toolz<0.11.0,>=0.10.0 in /Users/bn8210wy/.pyenv/versions/anaconda3-5.3.1/lib/python3.7/site-packages (from composable) (0.10.0)\n",
      "Requirement already satisfied, skipping upgrade: python-forge<19.0,>=18.6 in /Users/bn8210wy/.pyenv/versions/anaconda3-5.3.1/lib/python3.7/site-packages (from composable) (18.6.0)\n",
      "\u001b[33mWARNING: You are using pip version 19.3.1; however, version 20.2.3 is available.\n",
      "You should consider upgrading via the 'pip install --upgrade pip' command.\u001b[0m\n"
     ]
    }
   ],
   "source": [
    "!pip install composable --upgrade # run to upgrade an existing local installation"
   ]
  },
  {
   "cell_type": "code",
   "execution_count": 21,
   "metadata": {},
   "outputs": [
    {
     "data": {
      "text/plain": [
       "[1, 4, 9, 16, 25, 36, 49, 64, 81, 100]"
      ]
     },
     "execution_count": 21,
     "metadata": {},
     "output_type": "execute_result"
    }
   ],
   "source": [
    "import composable.strict as s\n",
    "range(1, 11) >> s.map(sqr)"
   ]
  },
  {
   "cell_type": "markdown",
   "metadata": {},
   "source": [
    "## Mapping with pipes and partial functions.\n",
    "\n",
    "Combining maps with partial functions is a powerful tool for describing computations.  For example, suppose that I want to add 2 to every element of a list, I can accomplish this using."
   ]
  },
  {
   "cell_type": "code",
   "execution_count": 22,
   "metadata": {},
   "outputs": [
    {
     "data": {
      "text/plain": [
       "[2, 3, 4, 5, 6]"
      ]
     },
     "execution_count": 22,
     "metadata": {},
     "output_type": "execute_result"
    }
   ],
   "source": [
    "from composable import pipeable\n",
    "my_add = pipeable(lambda x, y: x + y)\n",
    "\n",
    "(range(5)\n",
    ">> s.map(my_add(2))\n",
    ")"
   ]
  },
  {
   "cell_type": "markdown",
   "metadata": {},
   "source": [
    "This works because pipeable functions are curried, meaning that `add(2)` returns a partial function with `x` set to 2.  Note that the `toolz` module contains many curried functions, saving us the work of manually currying common functions."
   ]
  },
  {
   "cell_type": "code",
   "execution_count": 23,
   "metadata": {},
   "outputs": [
    {
     "data": {
      "text/plain": [
       "[2, 3, 4, 5, 6]"
      ]
     },
     "execution_count": 23,
     "metadata": {},
     "output_type": "execute_result"
    }
   ],
   "source": [
    "from toolz.curried.operator import add\n",
    "\n",
    "(range(5)\n",
    ">> s.map(add(2))\n",
    ")"
   ]
  },
  {
   "cell_type": "markdown",
   "metadata": {},
   "source": [
    "<img src=\"./img/filter.png\" width=\"800\"/>"
   ]
  },
  {
   "cell_type": "markdown",
   "metadata": {},
   "source": [
    "## Filter in Python -- `filter`\n",
    "\n",
    "`filter` is the built-in implementation that is lazy and returns a generator."
   ]
  },
  {
   "cell_type": "code",
   "execution_count": 24,
   "metadata": {},
   "outputs": [
    {
     "data": {
      "text/plain": [
       "<filter at 0x10f2c4748>"
      ]
     },
     "execution_count": 24,
     "metadata": {},
     "output_type": "execute_result"
    }
   ],
   "source": [
    "is_odd = lambda n: n % 2 == 1\n",
    "filter(is_odd, range(1,11))"
   ]
  },
  {
   "cell_type": "code",
   "execution_count": 25,
   "metadata": {},
   "outputs": [
    {
     "data": {
      "text/plain": [
       "[1, 3, 5, 7, 9]"
      ]
     },
     "execution_count": 25,
     "metadata": {},
     "output_type": "execute_result"
    }
   ],
   "source": [
    "list(filter(is_odd, range(1,11)))"
   ]
  },
  {
   "cell_type": "markdown",
   "metadata": {},
   "source": [
    "## Filter in Python -- `composable.strict.filter`\n",
    "\n",
    "`composable.strict.filter` is a pipeable strict (not lazy) implementation that returns a list."
   ]
  },
  {
   "cell_type": "code",
   "execution_count": 29,
   "metadata": {},
   "outputs": [
    {
     "data": {
      "text/plain": [
       "[1, 3, 5, 7, 9]"
      ]
     },
     "execution_count": 29,
     "metadata": {},
     "output_type": "execute_result"
    }
   ],
   "source": [
    "range(1, 11) >> s.filter(is_odd)"
   ]
  },
  {
   "cell_type": "markdown",
   "metadata": {},
   "source": [
    "## Filtering using curried functions\n",
    "\n",
    "As with `strict.map`, we can combine filters with curried functions for quick and readable expression"
   ]
  },
  {
   "cell_type": "code",
   "execution_count": 31,
   "metadata": {},
   "outputs": [
    {
     "data": {
      "text/plain": [
       "[5]"
      ]
     },
     "execution_count": 31,
     "metadata": {},
     "output_type": "execute_result"
    }
   ],
   "source": [
    "from toolz.curried.operator import eq\n",
    "\n",
    "(range(10)\n",
    ">> s.filter(eq(5))\n",
    ")"
   ]
  },
  {
   "cell_type": "markdown",
   "metadata": {},
   "source": [
    "## Example 1\n",
    "\n",
    "Note that is very easy to compose the pipeable versions of these functions.  We can compute *the square of all odd values between 1 and 10* using"
   ]
  },
  {
   "cell_type": "code",
   "execution_count": 32,
   "metadata": {},
   "outputs": [
    {
     "data": {
      "text/plain": [
       "[1, 9, 25, 49, 81]"
      ]
     },
     "execution_count": 32,
     "metadata": {},
     "output_type": "execute_result"
    }
   ],
   "source": [
    "(range(1,11)\n",
    " >> s.filter(is_odd)\n",
    " >> s.map(sqr)\n",
    ")"
   ]
  }
 ],
 "metadata": {
  "kernelspec": {
   "display_name": "Python 3",
   "language": "python",
   "name": "python3"
  },
  "language_info": {
   "codemirror_mode": {
    "name": "ipython",
    "version": 3
   },
   "file_extension": ".py",
   "mimetype": "text/x-python",
   "name": "python",
   "nbconvert_exporter": "python",
   "pygments_lexer": "ipython3",
   "version": "3.7.2"
  }
 },
 "nbformat": 4,
 "nbformat_minor": 2
}
