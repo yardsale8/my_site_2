{
 "cells": [
  {
   "cell_type": "markdown",
   "metadata": {
    "slideshow": {
     "slide_type": "slide"
    }
   },
   "source": [
    "# File handler object and opening and closing files\n",
    "\n",
    "* `open` creates a file handler\n",
    "    * Not the file itself\n",
    "    * used to read and write\n",
    "* Needs proper handling\n",
    "    * open\n",
    "    * close\n",
    "    * flush\n",
    "    "
   ]
  },
  {
   "cell_type": "code",
   "execution_count": 1,
   "metadata": {
    "slideshow": {
     "slide_type": "slide"
    }
   },
   "outputs": [
    {
     "data": {
      "text/plain": [
       "_io.TextIOWrapper"
      ]
     },
     "execution_count": 1,
     "metadata": {},
     "output_type": "execute_result"
    }
   ],
   "source": [
    "# read ('r') is the default mode\n",
    "f = open('sell_short_trades.txt')\n",
    "type(f)"
   ]
  },
  {
   "cell_type": "code",
   "execution_count": 5,
   "metadata": {
    "slideshow": {
     "slide_type": "slide"
    }
   },
   "outputs": [
    {
     "data": {
      "text/plain": [
       "<_io.TextIOWrapper name='sell_short_trades.txt' mode='r' encoding='UTF-8'>"
      ]
     },
     "execution_count": 5,
     "metadata": {},
     "output_type": "execute_result"
    }
   ],
   "source": [
    "f"
   ]
  },
  {
   "cell_type": "code",
   "execution_count": 6,
   "metadata": {},
   "outputs": [],
   "source": [
    "f.close()"
   ]
  },
  {
   "cell_type": "markdown",
   "metadata": {},
   "source": [
    "## Reading the whole file with `read`\n",
    "\n",
    "You can read the whole file with the `read` method."
   ]
  },
  {
   "cell_type": "code",
   "execution_count": 7,
   "metadata": {},
   "outputs": [],
   "source": [
    "f = open('sell_short_trades.txt')\n",
    "trades_file = f.read()\n",
    "f.close()"
   ]
  },
  {
   "cell_type": "code",
   "execution_count": 9,
   "metadata": {},
   "outputs": [
    {
     "data": {
      "text/plain": [
       "'                                                                                                                \\n DOTC                                                                                 RUN DATE : 06/14/17 21:56 \\n                                                                                             RPT DATE :06/14/17 \\n                                    TTS0126:SELL SHORT TRADES & SHORT EXEMPT                                    \\n Symbol   Side    Cxl      Qty    Price       Bi'"
      ]
     },
     "execution_count": 9,
     "metadata": {},
     "output_type": "execute_result"
    }
   ],
   "source": [
    "trades_file[:500]"
   ]
  },
  {
   "cell_type": "markdown",
   "metadata": {},
   "source": [
    "## Reading all lines with `readlines`\n",
    "\n",
    "You can read all the lines of a file with the `readline` method."
   ]
  },
  {
   "cell_type": "code",
   "execution_count": 3,
   "metadata": {
    "slideshow": {
     "slide_type": "fragment"
    }
   },
   "outputs": [],
   "source": [
    "f = open('sell_short_trades.txt')\n",
    "lines = f.readlines()\n",
    "f.close()"
   ]
  },
  {
   "cell_type": "code",
   "execution_count": 4,
   "metadata": {
    "slideshow": {
     "slide_type": "fragment"
    }
   },
   "outputs": [
    {
     "data": {
      "text/plain": [
       "['                                                                                                                \\n',\n",
       " ' DOTC                                                                                 RUN DATE : 06/14/17 21:56 \\n',\n",
       " '                                                                                             RPT DATE :06/14/17 \\n',\n",
       " '                                    TTS0126:SELL SHORT TRADES & SHORT EXEMPT                                    \\n',\n",
       " ' Symbol   Side    Cxl      Qty    Price       Bid        Ask        T-DatS-DatTradeID      TradeTiSS      Exbkr \\n',\n",
       " '                                                                                                                \\n',\n",
       " ' TradeCommType  SourceCommission   Account   OrderID      GTL               Trailer Info               Clr      \\n',\n",
       " ' CERS     SS      NEW        2,756   2.400000    2.340000   2.45000006/1406/191706149900003 09:30:CustSS        \\n',\n",
       " '                                                                    /17  /17  256945       00                   \\n',\n",
       " ' 0704 PerUnit   TERM  0.010000     AABBC     1706149900003#STA=GSCO                                             \\n']"
      ]
     },
     "execution_count": 4,
     "metadata": {},
     "output_type": "execute_result"
    }
   ],
   "source": [
    "lines[:10]"
   ]
  },
  {
   "cell_type": "markdown",
   "metadata": {},
   "source": [
    "## Reading files is unsafe!!1!one!\n",
    "\n",
    "* File might not exist.\n",
    "* File might be in use/locked.\n",
    "* Path might not exist."
   ]
  },
  {
   "cell_type": "markdown",
   "metadata": {},
   "source": [
    "## Writing files is EVEN MORE unsafe!!1!one!\n",
    "\n",
    "* You can overwrite data!\n",
    "* File might not exist.\n",
    "* File might be in use/locked.\n",
    "* Path might not exist."
   ]
  },
  {
   "cell_type": "markdown",
   "metadata": {},
   "source": [
    "## Managing files inside `with` fixes many problems.\n",
    "\n",
    "* Files automatically open and close.\n",
    "* Automatic close $\\rightarrow$ not locking out files\n",
    "* Work with context managers that can automatically deal with weird cases."
   ]
  },
  {
   "cell_type": "markdown",
   "metadata": {
    "slideshow": {
     "slide_type": "slide"
    }
   },
   "source": [
    "## ALWAYS manage files inside a `with` statement \n",
    "\n",
    "* opening and closing is *context management*\n",
    "* Automate this with ``with``\n",
    "    * safe and **important**"
   ]
  },
  {
   "cell_type": "code",
   "execution_count": 29,
   "metadata": {
    "slideshow": {
     "slide_type": "slide"
    }
   },
   "outputs": [
    {
     "data": {
      "text/plain": [
       "['                                                                                                                \\n',\n",
       " ' DOTC                                                                                 RUN DATE : 06/14/17 21:56 \\n',\n",
       " '                                                                                             RPT DATE :06/14/17 \\n',\n",
       " '                                    TTS0126:SELL SHORT TRADES & SHORT EXEMPT                                    \\n',\n",
       " ' Symbol   Side    Cxl      Qty    Price       Bid        Ask        T-DatS-DatTradeID      TradeTiSS      Exbkr \\n']"
      ]
     },
     "execution_count": 29,
     "metadata": {},
     "output_type": "execute_result"
    }
   ],
   "source": [
    "with open('sell_short_trades.txt') as f:\n",
    "    lines = f.readlines()\n",
    "lines[:5]"
   ]
  },
  {
   "cell_type": "code",
   "execution_count": 30,
   "metadata": {
    "slideshow": {
     "slide_type": "slide"
    }
   },
   "outputs": [
    {
     "data": {
      "text/plain": [
       "4158"
      ]
     },
     "execution_count": 30,
     "metadata": {},
     "output_type": "execute_result"
    }
   ],
   "source": [
    "len(lines)"
   ]
  },
  {
   "cell_type": "markdown",
   "metadata": {
    "slideshow": {
     "slide_type": "slide"
    }
   },
   "source": [
    "## Cleaning File Workflow\n",
    "\n",
    "When cleaning a file, we generally\n",
    "\n",
    "1. Read and split the file e.g. into lines (unfold)\n",
    "2. Transform the parts of the file e.g. filter the lines (tranform)\n",
    "3. Join the processed lines together (fold)\n",
    "4. Write the result to a *new file*"
   ]
  },
  {
   "cell_type": "markdown",
   "metadata": {},
   "source": [
    "## Example 1\n",
    "\n",
    "Suppose we only want to keep the lines that start with `'CERS'`.  Like most things, this can be accomplished with a comprehension.\n",
    "\n",
    "**Note:** `strip` removes whitespace from the ends of the string.  Using `strip` early and often is a good habit!"
   ]
  },
  {
   "cell_type": "code",
   "execution_count": 40,
   "metadata": {
    "slideshow": {
     "slide_type": "fragment"
    }
   },
   "outputs": [
    {
     "data": {
      "text/plain": [
       "['CERS     SS      NEW        2,756   2.400000    2.340000   2.45000006/1406/191706149900003 09:30:CustSS',\n",
       " 'CERS     SS      NEW          100   2.36000018422.360000   2.37000006/1406/191706149900003 10:20:ContraSSFREX',\n",
       " 'CERS     SS      NEW          200   2.350000    2.360000   2.37000006/1406/191706149900003 10:20:ContraSSFREX',\n",
       " 'CERS     SS      NEW          100   2.350000    2.350000   2.36000006/1406/191706149900003 10:20:ContraSSFREX',\n",
       " 'CERS     SS      NEW          100   2.350000    2.350000   2.36000006/1406/191706149900003 10:22:ContraSSFREX']"
      ]
     },
     "execution_count": 40,
     "metadata": {},
     "output_type": "execute_result"
    }
   ],
   "source": [
    "cers_lines = [line.strip() for line in lines if line.strip().startswith('CERS')]\n",
    "cers_lines[:5]"
   ]
  },
  {
   "cell_type": "markdown",
   "metadata": {},
   "source": [
    "## Example 2\n",
    "\n",
    "Suppose we only want to keep the lines that start with `'CERS'` **and split up all the data the data on each line**.  Like most things, this can be accomplished with a comprehension.\n"
   ]
  },
  {
   "cell_type": "code",
   "execution_count": 37,
   "metadata": {
    "scrolled": true,
    "slideshow": {
     "slide_type": "fragment"
    }
   },
   "outputs": [
    {
     "data": {
      "text/plain": [
       "[['CERS',\n",
       "  'SS',\n",
       "  'NEW',\n",
       "  '2,756',\n",
       "  '2.400000',\n",
       "  '2.340000',\n",
       "  '2.45000006/1406/191706149900003',\n",
       "  '09:30:CustSS'],\n",
       " ['CERS',\n",
       "  'SS',\n",
       "  'NEW',\n",
       "  '100',\n",
       "  '2.36000018422.360000',\n",
       "  '2.37000006/1406/191706149900003',\n",
       "  '10:20:ContraSSFREX'],\n",
       " ['CERS',\n",
       "  'SS',\n",
       "  'NEW',\n",
       "  '200',\n",
       "  '2.350000',\n",
       "  '2.360000',\n",
       "  '2.37000006/1406/191706149900003',\n",
       "  '10:20:ContraSSFREX'],\n",
       " ['CERS',\n",
       "  'SS',\n",
       "  'NEW',\n",
       "  '100',\n",
       "  '2.350000',\n",
       "  '2.350000',\n",
       "  '2.36000006/1406/191706149900003',\n",
       "  '10:20:ContraSSFREX'],\n",
       " ['CERS',\n",
       "  'SS',\n",
       "  'NEW',\n",
       "  '100',\n",
       "  '2.350000',\n",
       "  '2.350000',\n",
       "  '2.36000006/1406/191706149900003',\n",
       "  '10:22:ContraSSFREX']]"
      ]
     },
     "execution_count": 37,
     "metadata": {},
     "output_type": "execute_result"
    }
   ],
   "source": [
    "cers_split_lines = [line.strip().split() for line in lines if line.strip().startswith('CERS')]\n",
    "cers_split_lines[:5]"
   ]
  },
  {
   "cell_type": "markdown",
   "metadata": {},
   "source": [
    "## Example 3 - Being selective with `enumerate`\n",
    "\n",
    "When the location of an element of a sequence matters, we can `enumerate` to gain access to the element index.  Suppose we want to only keep every other line that starts with `CERS`"
   ]
  },
  {
   "cell_type": "code",
   "execution_count": 38,
   "metadata": {},
   "outputs": [
    {
     "data": {
      "text/plain": [
       "[' CERS     SS      NEW          100   2.36000018422.360000   2.37000006/1406/191706149900003 10:20:ContraSSFREX  \\n',\n",
       " ' CERS     SS      NEW          200   2.350000    2.360000   2.37000006/1406/191706149900003 10:20:ContraSSFREX  \\n',\n",
       " ' CERS     SS      NEW          100   2.350000    2.350000   2.36000006/1406/191706149900003 10:20:ContraSSFREX  \\n',\n",
       " ' CERS     SS      NEW          100   2.350000    2.350000   2.36000006/1406/191706149900003 10:22:ContraSSFREX  \\n',\n",
       " ' CERS     SS      NEW          100   2.360000    2.350000   2.36000006/1406/191706149900003 10:24:ContraSSFREX  \\n']"
      ]
     },
     "execution_count": 38,
     "metadata": {},
     "output_type": "execute_result"
    }
   ],
   "source": [
    "every_other = [line for i, line in enumerate(lines) if line.strip().startswith('CERS') and i % 2 == 0]\n",
    "every_other[:5]"
   ]
  },
  {
   "cell_type": "markdown",
   "metadata": {},
   "source": [
    "<h2> <font color='red'> Exercise 1 </font></h2>\n",
    "\n",
    "Suppose that we are only interested in keeping the second and third entry in each line that starts with `'CERS'`.  Perform this task with a list comprehension.  **Hint:** Slice!"
   ]
  },
  {
   "cell_type": "code",
   "execution_count": null,
   "metadata": {},
   "outputs": [],
   "source": []
  },
  {
   "cell_type": "markdown",
   "metadata": {},
   "source": [
    "## Joining processed line\n",
    "\n",
    "After processing the lines in a file and before writing the results, we join the lines to prepare the contents of the file as a single string.  This is accomplished using the `'\\n'.join`, which glues the lines back together using `'\\n'`, which puts each string on its own line."
   ]
  },
  {
   "cell_type": "code",
   "execution_count": 42,
   "metadata": {},
   "outputs": [
    {
     "data": {
      "text/plain": [
       "'CERS     SS      NEW        2,756   2.400000    2.340000   2.45000006/1406/191706149900003 09:30:Cus'"
      ]
     },
     "execution_count": 42,
     "metadata": {},
     "output_type": "execute_result"
    }
   ],
   "source": [
    "content = '\\n'.join(cers_lines)\n",
    "content[:100]"
   ]
  },
  {
   "cell_type": "markdown",
   "metadata": {},
   "source": [
    "## Using `','.join` to create csv files.\n",
    "\n",
    "When you have split a line of data into parts (see Example 2), we generally join these values back together using commas.  This can be accomplished by applying `','.join` to each of the split lines."
   ]
  },
  {
   "cell_type": "code",
   "execution_count": 45,
   "metadata": {},
   "outputs": [
    {
     "name": "stdout",
     "output_type": "stream",
     "text": [
      "CERS,SS,NEW,2,756,2.400000,2.340000,2.45000006/1406/191706149900003,09:30:CustSS\n",
      "CERS,SS,NEW,100,2.36000018422.360000,2.37000006/1406/191706149900003,10:20:ContraSSFREX\n",
      "CERS,SS,NEW,200,2.350000,2.360000,2.37000006/1406/191706149900003,10:20:ContraSSFREX\n",
      "CERS,SS,NEW,100,2.350000,2.350000,2.36000006/1406/191706149900003,10:20:ContraSSFREX\n",
      "CERS,SS,NEW,100,2.350000,2.350000,2.36000006/1406/191706149900003,10:22:ContraSSFREX\n",
      "CERS,SS,NEW,100,2.360000,2.350000,2.36000006/1406/191706149900003,10:24:Cont\n"
     ]
    }
   ],
   "source": [
    "csv_content = '\\n'.join([','.join(line) for line in cers_split_lines])\n",
    "print(csv_content[:500])"
   ]
  },
  {
   "cell_type": "markdown",
   "metadata": {},
   "source": [
    "<h2> <font color='red'> Exercise 2 </font></h2>\n",
    "\n",
    "Suppose we are planning to write the contents of our work in <font color='red'> Exercise 1 </font> in to a csv file.  Create a content string that contains the data, separated by strings, with one line per data row. "
   ]
  },
  {
   "cell_type": "code",
   "execution_count": null,
   "metadata": {},
   "outputs": [],
   "source": []
  },
  {
   "cell_type": "markdown",
   "metadata": {
    "slideshow": {
     "slide_type": "slide"
    }
   },
   "source": [
    "## Writing to files\n",
    "\n",
    "* Need to open with `mode='w'` or `'a'`\n",
    "    * `'w'` is *write*\n",
    "    * `'a'` is *append*\n",
    "* **Be careful!**\n",
    "    * open('file','w') **immediately** erases `file`"
   ]
  },
  {
   "cell_type": "markdown",
   "metadata": {
    "slideshow": {
     "slide_type": "slide"
    }
   },
   "source": [
    "## Example - writing out the `'CERS'` lines to a csv file"
   ]
  },
  {
   "cell_type": "code",
   "execution_count": 48,
   "metadata": {
    "slideshow": {
     "slide_type": "slide"
    }
   },
   "outputs": [],
   "source": [
    "with open('cers_lines.csv','w') as outfile:\n",
    "    outfile.write(csv_content)"
   ]
  },
  {
   "cell_type": "code",
   "execution_count": 49,
   "metadata": {
    "slideshow": {
     "slide_type": "slide"
    }
   },
   "outputs": [
    {
     "name": "stdout",
     "output_type": "stream",
     "text": [
      "CERS,SS,NEW,2,756,2.400000,2.340000,2.45000006/1406/191706149900003,09:30:CustSS\r\n",
      "CERS,SS,NEW,100,2.36000018422.360000,2.37000006/1406/191706149900003,10:20:ContraSSFREX\r\n",
      "CERS,SS,NEW,200,2.350000,2.360000,2.37000006/1406/191706149900003,10:20:ContraSSFREX\r\n",
      "CERS,SS,NEW,100,2.350000,2.350000,2.36000006/1406/191706149900003,10:20:ContraSSFREX\r\n",
      "CERS,SS,NEW,100,2.350000,2.350000,2.36000006/1406/191706149900003,10:22:ContraSSFREX\r\n"
     ]
    }
   ],
   "source": [
    "!cat cers_lines.csv | head -n 5"
   ]
  },
  {
   "cell_type": "markdown",
   "metadata": {},
   "source": [
    "<h2> <font color='red'> Exercise 3 </font></h2>\n",
    "\n",
    "Write the content from <font color='red'> Exercise 2 </font> into a csv file titled `example3.csv`, then use `cat` piped into `head` to check the result."
   ]
  },
  {
   "cell_type": "code",
   "execution_count": null,
   "metadata": {},
   "outputs": [],
   "source": []
  }
 ],
 "metadata": {
  "anaconda-cloud": {},
  "kernelspec": {
   "display_name": "Python 3",
   "language": "python",
   "name": "python3"
  },
  "language_info": {
   "codemirror_mode": {
    "name": "ipython",
    "version": 3
   },
   "file_extension": ".py",
   "mimetype": "text/x-python",
   "name": "python",
   "nbconvert_exporter": "python",
   "pygments_lexer": "ipython3",
   "version": "3.7.2"
  }
 },
 "nbformat": 4,
 "nbformat_minor": 2
}
