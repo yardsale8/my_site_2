{
 "cells": [
  {
   "cell_type": "markdown",
   "metadata": {},
   "source": [
    "# Lecture 4.1 - Unfolding Sequences\n",
    "\n",
    "In this lecture, we will cover one more method for processing sequences: unfolding sequences.\n",
    "\n",
    "Out primary goal in this module is applying what we have learned about regular expressions and processing sequences to the cleaning of messy text files.  Unfolding sequences is an important and necessary skill when performing this task.\n"
   ]
  },
  {
   "cell_type": "markdown",
   "metadata": {},
   "source": [
    "\n",
    "## Unfolding a sequence is like peeling an onion\n",
    "\n",
    "<img src=\"https://luminexusa.org/wp-content/uploads/bfi_thumb/onion-n2fhsqcdk8a1irebz8ua3d5ne782hyz8xa8ek3jph4.jpg\" width=\"400\"/>\n",
    "\n",
    "1. Pull off a layer at a time.\n",
    "2. We don't know how many layers before processing"
   ]
  },
  {
   "cell_type": "markdown",
   "metadata": {},
   "source": [
    "## How to unfold an onion recursively\n",
    "\n",
    "<img src=\"./img/unfold_the_onion.png\" width=\"800\"/>"
   ]
  },
  {
   "cell_type": "markdown",
   "metadata": {},
   "source": [
    "## How to unfold an onion recursively\n",
    "\n",
    "<img src=\"./img/unfold_the_onion_1.png\" width=\"800\"/>"
   ]
  },
  {
   "cell_type": "markdown",
   "metadata": {},
   "source": [
    "## How to unfold an onion recursively\n",
    "\n",
    "<img src=\"./img/unfold_the_onion_2.png\" width=\"800\"/>"
   ]
  },
  {
   "cell_type": "markdown",
   "metadata": {},
   "source": [
    "## How to unfold an onion recursively\n",
    "\n",
    "<img src=\"./img/unfold_the_onion_3.png\" width=\"800\"/>"
   ]
  },
  {
   "cell_type": "markdown",
   "metadata": {},
   "source": [
    "<h2> <font color=\"red\"> Exercise 4.1.1 </font> </h2>\n",
    "\n",
    "Please answer each of the following questions."
   ]
  },
  {
   "cell_type": "markdown",
   "metadata": {},
   "source": [
    "#### Question: Why do we need to use a `while` loop?"
   ]
  },
  {
   "cell_type": "markdown",
   "metadata": {},
   "source": [
    "**Answer:** <font color=\"orange\"> <b> ?? </b> </font>"
   ]
  },
  {
   "cell_type": "markdown",
   "metadata": {},
   "source": [
    "#### Question: How do we know when to stop?"
   ]
  },
  {
   "cell_type": "markdown",
   "metadata": {},
   "source": [
    "**Answer:** <font color=\"orange\"> <b> ?? </b> </font>"
   ]
  },
  {
   "cell_type": "markdown",
   "metadata": {},
   "source": [
    "#### Question: How do we know it *will* stop?"
   ]
  },
  {
   "cell_type": "markdown",
   "metadata": {},
   "source": [
    "**Answer:** <font color=\"orange\"> <b> ?? </b> </font>"
   ]
  },
  {
   "cell_type": "markdown",
   "metadata": {},
   "source": [
    "## Example - Splitting a string on spaces\n",
    "\n",
    "When learning a new process, it is often useful to recreate existing functions to help us understand the mechanics involved.  In this exercise, we will split a string on spaces *without* using the `split` method.  Instead we will use a `while` loop to unfold the string."
   ]
  },
  {
   "cell_type": "code",
   "execution_count": 3,
   "metadata": {},
   "outputs": [],
   "source": [
    "example_quote = \"Bad programmers worry about code. Good programmers worry about data structures and their relationships.\""
   ]
  },
  {
   "cell_type": "markdown",
   "metadata": {},
   "source": [
    "### Step 1 - Create the `get_layer` and `get_remaining` functions"
   ]
  },
  {
   "cell_type": "markdown",
   "metadata": {},
   "source": [
    "#### Finding the split location"
   ]
  },
  {
   "cell_type": "code",
   "execution_count": 4,
   "metadata": {},
   "outputs": [
    {
     "name": "stdout",
     "output_type": "stream",
     "text": [
      "Help on built-in function find:\n",
      "\n",
      "find(...) method of builtins.str instance\n",
      "    S.find(sub[, start[, end]]) -> int\n",
      "    \n",
      "    Return the lowest index in S where substring sub is found,\n",
      "    such that sub is contained within S[start:end].  Optional\n",
      "    arguments start and end are interpreted as in slice notation.\n",
      "    \n",
      "    Return -1 on failure.\n",
      "\n"
     ]
    }
   ],
   "source": [
    "help(example_quote.find)"
   ]
  },
  {
   "cell_type": "code",
   "execution_count": 17,
   "metadata": {},
   "outputs": [
    {
     "data": {
      "text/plain": [
       "3"
      ]
     },
     "execution_count": 17,
     "metadata": {},
     "output_type": "execute_result"
    }
   ],
   "source": [
    "example_quote.find(' ')"
   ]
  },
  {
   "cell_type": "markdown",
   "metadata": {},
   "source": [
    "#### Building `get_layer`"
   ]
  },
  {
   "cell_type": "code",
   "execution_count": 8,
   "metadata": {},
   "outputs": [
    {
     "data": {
      "text/plain": [
       "'Bad'"
      ]
     },
     "execution_count": 8,
     "metadata": {},
     "output_type": "execute_result"
    }
   ],
   "source": [
    "first_layer = example_quote[:example_quote.find(' ')]\n",
    "first_layer"
   ]
  },
  {
   "cell_type": "code",
   "execution_count": 18,
   "metadata": {},
   "outputs": [
    {
     "data": {
      "text/plain": [
       "'Bad'"
      ]
     },
     "execution_count": 18,
     "metadata": {},
     "output_type": "execute_result"
    }
   ],
   "source": [
    "get_layer = lambda s: s[:s.find(' ')]\n",
    "get_layer(example_quote)"
   ]
  },
  {
   "cell_type": "markdown",
   "metadata": {},
   "source": [
    "#### Building `get_remaining`"
   ]
  },
  {
   "cell_type": "code",
   "execution_count": 11,
   "metadata": {},
   "outputs": [
    {
     "data": {
      "text/plain": [
       "'programmers worry about code. Good programmers worry about data structures and their relationships.'"
      ]
     },
     "execution_count": 11,
     "metadata": {},
     "output_type": "execute_result"
    }
   ],
   "source": [
    "remaining = example_quote[example_quote.find(' ') + 1:]\n",
    "remaining"
   ]
  },
  {
   "cell_type": "code",
   "execution_count": 51,
   "metadata": {},
   "outputs": [
    {
     "data": {
      "text/plain": [
       "'programmers worry about code. Good programmers worry about data structures and their relationships.'"
      ]
     },
     "execution_count": 51,
     "metadata": {},
     "output_type": "execute_result"
    }
   ],
   "source": [
    "get_remaining = lambda s: s[s.find(' ') + 1:]\n",
    "get_remaining(example_quote)"
   ]
  },
  {
   "cell_type": "markdown",
   "metadata": {},
   "source": [
    "#### Building `stop_condition`"
   ]
  },
  {
   "cell_type": "code",
   "execution_count": 20,
   "metadata": {},
   "outputs": [],
   "source": [
    "stop_condition = lambda s: len(s) == 0"
   ]
  },
  {
   "cell_type": "markdown",
   "metadata": {},
   "source": [
    "### Step 2: Set the initial conditions"
   ]
  },
  {
   "cell_type": "code",
   "execution_count": 27,
   "metadata": {},
   "outputs": [
    {
     "data": {
      "text/plain": [
       "([],\n",
       " 'Bad programmers worry about code. Good programmers worry about data structures and their relationships.')"
      ]
     },
     "execution_count": 27,
     "metadata": {},
     "output_type": "execute_result"
    }
   ],
   "source": [
    "new_seq = []\n",
    "remaining_layers = example_quote\n",
    "new_seq, remaining_layers"
   ]
  },
  {
   "cell_type": "markdown",
   "metadata": {},
   "source": [
    "#### Step 3a: Test out the iteration"
   ]
  },
  {
   "cell_type": "code",
   "execution_count": 28,
   "metadata": {},
   "outputs": [
    {
     "data": {
      "text/plain": [
       "(['Bad'],\n",
       " 'programmers worry about code. Good programmers worry about data structures and their relationships.')"
      ]
     },
     "execution_count": 28,
     "metadata": {},
     "output_type": "execute_result"
    }
   ],
   "source": [
    "new_seq = new_seq + [get_layer(remaining_layers)]\n",
    "remaining_layers = get_remaining(remaining_layers)\n",
    "new_seq, remaining_layers"
   ]
  },
  {
   "cell_type": "code",
   "execution_count": 29,
   "metadata": {},
   "outputs": [
    {
     "data": {
      "text/plain": [
       "(['Bad', 'programmers'],\n",
       " 'worry about code. Good programmers worry about data structures and their relationships.')"
      ]
     },
     "execution_count": 29,
     "metadata": {},
     "output_type": "execute_result"
    }
   ],
   "source": [
    "new_seq = new_seq + [get_layer(remaining_layers)]\n",
    "remaining_layers = get_remaining(remaining_layers)\n",
    "new_seq, remaining_layers"
   ]
  },
  {
   "cell_type": "code",
   "execution_count": 30,
   "metadata": {},
   "outputs": [
    {
     "data": {
      "text/plain": [
       "(['Bad', 'programmers', 'worry'],\n",
       " 'about code. Good programmers worry about data structures and their relationships.')"
      ]
     },
     "execution_count": 30,
     "metadata": {},
     "output_type": "execute_result"
    }
   ],
   "source": [
    "new_seq = new_seq + [get_layer(remaining_layers)]\n",
    "remaining_layers = get_remaining(remaining_layers)\n",
    "new_seq, remaining_layers"
   ]
  },
  {
   "cell_type": "markdown",
   "metadata": {},
   "source": [
    "### Step 3: Iterate with a while loop"
   ]
  },
  {
   "cell_type": "code",
   "execution_count": null,
   "metadata": {},
   "outputs": [],
   "source": [
    "while not stop_condition(remaining_layers):\n",
    "    new_seq = new_seq + [get_layer(remaining_layers)]\n",
    "    remaining_layers = get_remaining(remaining_layers)\n",
    "    print(new_seq, remaining_layers)"
   ]
  },
  {
   "cell_type": "markdown",
   "metadata": {},
   "source": [
    "# Oops!\n",
    "\n",
    "Looks like we created an infinite loop.  Notice that `remaining_layers` stayed `\"relationships.\"` once we were done.  This is because there are no more spaces.  Let's fix out `get_remaining` functions."
   ]
  },
  {
   "cell_type": "markdown",
   "metadata": {},
   "source": [
    "#### Building `get_remaining`--attempt 2"
   ]
  },
  {
   "cell_type": "code",
   "execution_count": 32,
   "metadata": {},
   "outputs": [
    {
     "data": {
      "text/plain": [
       "'programmers worry about code. Good programmers worry about data structures and their relationships.'"
      ]
     },
     "execution_count": 32,
     "metadata": {},
     "output_type": "execute_result"
    }
   ],
   "source": [
    "remaining = example_quote[example_quote.find(' ') + 1:] if ' ' in example_quote else ''\n",
    "remaining"
   ]
  },
  {
   "cell_type": "code",
   "execution_count": 33,
   "metadata": {},
   "outputs": [
    {
     "data": {
      "text/plain": [
       "'programmers worry about code. Good programmers worry about data structures and their relationships.'"
      ]
     },
     "execution_count": 33,
     "metadata": {},
     "output_type": "execute_result"
    }
   ],
   "source": [
    "get_remaining = lambda s: s[s.find(' ') + 1:] if ' ' in s else ''\n",
    "get_remaining(example_quote)"
   ]
  },
  {
   "cell_type": "markdown",
   "metadata": {},
   "source": [
    "### Let's try that again!"
   ]
  },
  {
   "cell_type": "code",
   "execution_count": null,
   "metadata": {},
   "outputs": [],
   "source": [
    "new_seq = []\n",
    "remaining_layers = example_quote\n",
    "while not stop_condition(remaining_layers):\n",
    "    new_seq = new_seq + [get_layer(remaining_layers)]\n",
    "    remaining_layers = get_remaining(remaining_layers)\n",
    "    print(new_seq, remaining_layers)"
   ]
  },
  {
   "cell_type": "code",
   "execution_count": null,
   "metadata": {},
   "outputs": [],
   "source": [
    "# Helper functions\n",
    "get_layer = lambda s: s[:s.find(' ')]\n",
    "get_remaining = lambda s: s[s.find(' ') + 1:] if ' ' in s else ''\n",
    "stop_condition = lambda s: len(s) == 0\n",
    "\n",
    "def split_on_space(s):\n",
    "    ''' splits a string into a list of words (based on spaces).\n",
    "    \n",
    "    Args:\n",
    "        s: a string\n",
    "        \n",
    "    Returns:\n",
    "        a list of the words in the original string, where a \"word\" is defined\n",
    "        by spaces.  Note that the spaces are removed.\n",
    "    '''\n",
    "    new_seq = []\n",
    "    remaining_layers = s\n",
    "    while not stop_condition(remaining_layers):\n",
    "        new_seq = new_seq + [get_layer(remaining_layers)]\n",
    "        remaining_layers = get_remaining(remaining_layers)\n",
    "        print(new_seq, remaining_layers)\n",
    "    return new_seq\n",
    "\n",
    "def test_split_on_space():\n",
    "    assert split_on_space(\"My cat\") == ['My', 'cat']\n",
    "    assert split_on_space('') == []\n",
    "test_split_on_space()"
   ]
  },
  {
   "cell_type": "markdown",
   "metadata": {},
   "source": [
    "#### Building `get_layer`"
   ]
  },
  {
   "cell_type": "code",
   "execution_count": 39,
   "metadata": {},
   "outputs": [
    {
     "data": {
      "text/plain": [
       "'Bad'"
      ]
     },
     "execution_count": 39,
     "metadata": {},
     "output_type": "execute_result"
    }
   ],
   "source": [
    "first_layer = example_quote[:example_quote.find(' ')]\n",
    "first_layer"
   ]
  },
  {
   "cell_type": "code",
   "execution_count": 41,
   "metadata": {},
   "outputs": [
    {
     "data": {
      "text/plain": [
       "-1"
      ]
     },
     "execution_count": 41,
     "metadata": {},
     "output_type": "execute_result"
    }
   ],
   "source": [
    "s = 'no_spaces'\n",
    "s.find(' ')"
   ]
  },
  {
   "cell_type": "code",
   "execution_count": 42,
   "metadata": {},
   "outputs": [
    {
     "data": {
      "text/plain": [
       "'no_space'"
      ]
     },
     "execution_count": 42,
     "metadata": {},
     "output_type": "execute_result"
    }
   ],
   "source": [
    "s[:s.find(' ')]"
   ]
  },
  {
   "cell_type": "code",
   "execution_count": 44,
   "metadata": {},
   "outputs": [
    {
     "data": {
      "text/plain": [
       "'no_spaces'"
      ]
     },
     "execution_count": 44,
     "metadata": {},
     "output_type": "execute_result"
    }
   ],
   "source": [
    "get_layer = lambda s: s[:s.find(' ')] if ' ' in s else s\n",
    "get_layer(s)"
   ]
  },
  {
   "cell_type": "code",
   "execution_count": 45,
   "metadata": {},
   "outputs": [
    {
     "data": {
      "text/plain": [
       "''"
      ]
     },
     "execution_count": 45,
     "metadata": {},
     "output_type": "execute_result"
    }
   ],
   "source": [
    "get_remaining(s)"
   ]
  },
  {
   "cell_type": "code",
   "execution_count": 1,
   "metadata": {},
   "outputs": [],
   "source": [
    "# Helper functions\n",
    "get_layer = lambda s: s[:s.find(' ')] if ' ' in s else s\n",
    "get_remaining = lambda s: s[s.find(' ') + 1:] if ' ' in s else ''\n",
    "stop_condition = lambda s: len(s) == 0\n",
    "\n",
    "def split_on_space(s):\n",
    "    ''' splits a string into a list of words (based on spaces).\n",
    "    \n",
    "    Args:\n",
    "        s: a string\n",
    "        \n",
    "    Returns:\n",
    "        a list of the words in the original string, where a \"word\" is defined\n",
    "        by spaces.  Note that the spaces are removed.\n",
    "    '''\n",
    "    new_seq = []\n",
    "    remaining_layers = s\n",
    "    while not stop_condition(remaining_layers):\n",
    "        new_seq = new_seq + [get_layer(remaining_layers)]\n",
    "        remaining_layers = get_remaining(remaining_layers)\n",
    "        # print(new_seq, remaining_layers)\n",
    "    return new_seq\n",
    "\n",
    "def test_split_on_space():\n",
    "    assert split_on_space(\"My cat is cute.\") == ['My', 'cat', 'is', 'cute.']\n",
    "    assert split_on_space('') == []\n",
    "test_split_on_space()"
   ]
  },
  {
   "cell_type": "markdown",
   "metadata": {},
   "source": [
    "<h2> <font color=\"red\"> Exercise 4.1.2 </font> </h2>\n",
    "\n",
    "Redo the last problem but this time include an argument `sep` then split on this value.\n",
    "\n",
    "**Hint:** Don't forget to replace the `+ 1` with a better value!"
   ]
  },
  {
   "cell_type": "code",
   "execution_count": null,
   "metadata": {},
   "outputs": [],
   "source": []
  },
  {
   "cell_type": "code",
   "execution_count": 7,
   "metadata": {
    "tags": []
   },
   "outputs": [],
   "source": [
    "# # Helper functions\n",
    "get_layer = lambda sep, s: s[:s.find(sep)] if sep in s else s\n",
    "get_remaining = lambda sep, s: s[s.find(sep) + len(sep):] if sep in s else ''\n",
    "\n",
    "def split(sep, s):\n",
    "    ''' splits a string into a list of words (based on spaces).\n",
    "    \n",
    "    Args:\n",
    "        s: a string\n",
    "        \n",
    "    Returns:\n",
    "        a list of the words in the original string, where a \"word\" is defined\n",
    "        by spaces.  Note that the spaces are removed.\n",
    "    '''\n",
    "    new_seq = []\n",
    "    remaining_layers = s\n",
    "    while len(remaining_layers) > 0:\n",
    "        new_seq = new_seq + [get_layer(sep, remaining_layers)]\n",
    "        remaining_layers = get_remaining(sep, remaining_layers)\n",
    "        # print(new_seq, remaining_layers)\n",
    "    return new_seq\n",
    "\n",
    "def test_split():\n",
    "    assert split('is', \"My cat is cute.\") == ['My cat ', ' cute.']\n",
    "    assert split('is', '') == []\n",
    "test_split()"
   ]
  },
  {
   "cell_type": "code",
   "execution_count": null,
   "metadata": {},
   "outputs": [],
   "source": []
  },
  {
   "cell_type": "code",
   "execution_count": null,
   "metadata": {},
   "outputs": [],
   "source": []
  },
  {
   "cell_type": "markdown",
   "metadata": {},
   "source": [
    "<h2> <font color=\"red\"> Exercise 4.1.3 </font> </h2>\n",
    "\n",
    "Create a function called `partition` that has two arguments `n` (an int) and `seq` (some sequence) and returns a list with the original content partitioned into `tuple`s of size `n`.\n",
    "\n",
    "Example: `partition(2, [1, 2, 3, 4, 5]) == [(1,2), (3,4), (5,)]`\n",
    "\n",
    "**Note:** To get create for this problem, you need to.\n",
    "\n",
    "1. Document playing around with an example.\n",
    "2. Document the creation and testing of your three `lambda functions (`get_layer`, `get_remaining` and `stop_condition`)\n",
    "3. Package the code in a `def` statement with a good doc string and test function."
   ]
  },
  {
   "cell_type": "code",
   "execution_count": 48,
   "metadata": {},
   "outputs": [],
   "source": [
    "# Your code here"
   ]
  }
 ],
 "metadata": {
  "kernelspec": {
   "display_name": "Python 3",
   "language": "python",
   "name": "python3"
  },
  "language_info": {
   "codemirror_mode": {
    "name": "ipython",
    "version": 3
   },
   "file_extension": ".py",
   "mimetype": "text/x-python",
   "name": "python",
   "nbconvert_exporter": "python",
   "pygments_lexer": "ipython3",
   "version": "3.7.2-final"
  }
 },
 "nbformat": 4,
 "nbformat_minor": 2
}